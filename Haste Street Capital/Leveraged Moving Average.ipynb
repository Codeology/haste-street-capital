{
 "cells": [
  {
   "cell_type": "code",
   "execution_count": null,
   "id": "5ed0592d",
   "metadata": {},
   "outputs": [],
   "source": [
    "#region imports\n",
    "from AlgorithmImports import *\n",
    "#endregion\n",
    "from EtfSmaAlphaModel import EtfSmaAlphaModel\n",
    "class ParticleQuantumChamber(QCAlgorithm):\n",
    "\n",
    "    def Initialize(self):\n",
    "        self.SetStartDate(2015, 6, 15)  \n",
    "        self.SetEndDate(2020, 6, 15)\n",
    "        self.SetCash(100000)\n",
    "      \n",
    "        self.sso = Symbol.Create('SSO', SecurityType.Equity, Market.USA)  # SSO = 2x levered SPX\n",
    "        self.shy = Symbol.Create('SHY', SecurityType.Equity, Market.USA)  # SHY = short term Treasury ETF\n",
    "        \n",
    "        self.SetWarmup(200)\n",
    "        \n",
    "        self.SetBenchmark('SPY')\n",
    "        \n",
    "        self.UniverseSettings.Resolution = Resolution.Hour\n",
    "        self.SetAlpha(EtfSmaAlphaModel(self.sso, self.shy))\n",
    "        self.SetUniverseSelection(ManualUniverseSelectionModel([self.sso, self.shy]))\n",
    "        self.SetExecution(ImmediateExecutionModel())\n",
    "        self.SetBrokerageModel(AlphaStreamsBrokerageModel())\n",
    "        self.SetPortfolioConstruction(EqualWeightingPortfolioConstructionModel())"
   ]
  }
 ],
 "metadata": {
  "kernelspec": {
   "display_name": "Python 3 (ipykernel)",
   "language": "python",
   "name": "python3"
  },
  "language_info": {
   "codemirror_mode": {
    "name": "ipython",
    "version": 3
   },
   "file_extension": ".py",
   "mimetype": "text/x-python",
   "name": "python",
   "nbconvert_exporter": "python",
   "pygments_lexer": "ipython3",
   "version": "3.7.11"
  }
 },
 "nbformat": 4,
 "nbformat_minor": 5
}
