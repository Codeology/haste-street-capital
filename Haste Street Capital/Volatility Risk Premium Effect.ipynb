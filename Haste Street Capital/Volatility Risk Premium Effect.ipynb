{
 "cells": [
  {
   "cell_type": "code",
   "execution_count": null,
   "id": "f5569cb9",
   "metadata": {},
   "outputs": [],
   "source": [
    "from datetime import timedelta\n",
    "\n",
    "class BullCallSpreadAlgorithm(QCAlgorithm):\n",
    "\n",
    "    def Initialize(self):\n",
    "        self.SetStartDate(2017, 4, 1)\n",
    "        self.SetEndDate(2017, 6, 30)\n",
    "        self.SetCash(1000000)\n",
    "        equity = self.AddEquity(\"GOOG\", Resolution.Minute)\n",
    "        option = self.AddOption(\"GOOG\", Resolution.Minute)\n",
    "        self.symbol = option.Symbol\n",
    "    \n",
    "        # set our strike/expiry filter for this option chain\n",
    "        option.SetFilter(-6, 6, timedelta(30), timedelta(60))\n",
    "        # use the underlying equity GOOG as the benchmark\n",
    "        self.SetBenchmark(equity.Symbol)\n",
    "        \n",
    "    def OnData(self,slice):\n",
    "        for i in slice.OptionChains:\n",
    "            chains = i.Value\n",
    "            if not self.Portfolio.Invested: \n",
    "                self.TradeOptions(chains) \n",
    " \n",
    "    def TradeOptions(self,chains):\n",
    "        # sorted the optionchain by expiration date and choose the furthest date\n",
    "        expiry = sorted(chains,key = lambda x: x.Expiry, reverse=True)[0].Expiry\n",
    "        # filter the call and put contract\n",
    "        call = [i for i in chains if i.Expiry == expiry and i.Right == OptionRight.Call]\n",
    "        put = [i for i in chains if i.Expiry == expiry and i.Right == OptionRight.Put]\n",
    "        \n",
    "        # sorted the contracts according to their strike prices \n",
    "        call_contracts = sorted(call,key = lambda x: x.Strike)    \n",
    "        if len(call_contracts) == 0: return\n",
    "        self.call = call_contracts[0]\n",
    "        for i in put:\n",
    "            if i.Strike == self.call.Strike:\n",
    "                self.put = i\n",
    "        self.Buy(self.call.Symbol, 1)\n",
    "        self.Buy(self.put.Symbol ,1)\n",
    "    \n",
    "    def OnOrderEvent(self, orderEvent):\n",
    "        self.Log(str(orderEvent))"
   ]
  }
 ],
 "metadata": {
  "kernelspec": {
   "display_name": "Python 3 (ipykernel)",
   "language": "python",
   "name": "python3"
  },
  "language_info": {
   "codemirror_mode": {
    "name": "ipython",
    "version": 3
   },
   "file_extension": ".py",
   "mimetype": "text/x-python",
   "name": "python",
   "nbconvert_exporter": "python",
   "pygments_lexer": "ipython3",
   "version": "3.7.11"
  }
 },
 "nbformat": 4,
 "nbformat_minor": 5
}
